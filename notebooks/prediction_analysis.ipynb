{
 "cells": [
  {
   "cell_type": "markdown",
   "metadata": {},
   "source": [
    "## Estimate Trip arrival times"
   ]
  },
  {
   "cell_type": "code",
   "execution_count": 1,
   "metadata": {},
   "outputs": [],
   "source": [
    "import pandas as pd\n",
    "\n",
    "vehicle_positions = pd.read_csv(\"data/vehicle_tracking/processed/804_lametro-rail/2019-01-16.csv\", index_col=0, parse_dates=[\"datetime\"])\n",
    "stations = pd.read_csv(\"data/line_info/804/804_directionA_stations.csv\", index_col=0)"
   ]
  },
  {
   "cell_type": "code",
   "execution_count": 2,
   "metadata": {},
   "outputs": [
    {
     "name": "stderr",
     "output_type": "stream",
     "text": [
      "/home/cts/venv/lib/python3.6/site-packages/ipykernel_launcher.py:4: SettingWithCopyWarning: \n",
      "A value is trying to be set on a copy of a slice from a DataFrame.\n",
      "Try using .loc[row_indexer,col_indexer] = value instead\n",
      "\n",
      "See the caveats in the documentation: http://pandas.pydata.org/pandas-docs/stable/indexing.html#indexing-view-versus-copy\n",
      "  after removing the cwd from sys.path.\n",
      "/home/cts/venv/lib/python3.6/site-packages/ipykernel_launcher.py:7: SettingWithCopyWarning: \n",
      "A value is trying to be set on a copy of a slice from a DataFrame.\n",
      "Try using .loc[row_indexer,col_indexer] = value instead\n",
      "\n",
      "See the caveats in the documentation: http://pandas.pydata.org/pandas-docs/stable/indexing.html#indexing-view-versus-copy\n",
      "  import sys\n",
      "/home/cts/venv/lib/python3.6/site-packages/pandas/core/frame.py:6211: FutureWarning: Sorting because non-concatenation axis is not aligned. A future version\n",
      "of pandas will change to not sort by default.\n",
      "\n",
      "To accept the future behavior, pass 'sort=False'.\n",
      "\n",
      "To retain the current behavior and silence the warning, pass 'sort=True'.\n",
      "\n",
      "  sort=sort)\n",
      "/home/cts/venv/lib/python3.6/site-packages/ipykernel_launcher.py:18: SettingWithCopyWarning: \n",
      "A value is trying to be set on a copy of a slice from a DataFrame.\n",
      "Try using .loc[row_indexer,col_indexer] = value instead\n",
      "\n",
      "See the caveats in the documentation: http://pandas.pydata.org/pandas-docs/stable/indexing.html#indexing-view-versus-copy\n",
      "/home/cts/venv/lib/python3.6/site-packages/ipykernel_launcher.py:19: SettingWithCopyWarning: \n",
      "A value is trying to be set on a copy of a slice from a DataFrame.\n",
      "Try using .loc[row_indexer,col_indexer] = value instead\n",
      "\n",
      "See the caveats in the documentation: http://pandas.pydata.org/pandas-docs/stable/indexing.html#indexing-view-versus-copy\n",
      "/home/cts/venv/lib/python3.6/site-packages/ipykernel_launcher.py:20: SettingWithCopyWarning: \n",
      "A value is trying to be set on a copy of a slice from a DataFrame.\n",
      "Try using .loc[row_indexer,col_indexer] = value instead\n",
      "\n",
      "See the caveats in the documentation: http://pandas.pydata.org/pandas-docs/stable/indexing.html#indexing-view-versus-copy\n",
      "/home/cts/venv/lib/python3.6/site-packages/ipykernel_launcher.py:21: SettingWithCopyWarning: \n",
      "A value is trying to be set on a copy of a slice from a DataFrame.\n",
      "Try using .loc[row_indexer,col_indexer] = value instead\n",
      "\n",
      "See the caveats in the documentation: http://pandas.pydata.org/pandas-docs/stable/indexing.html#indexing-view-versus-copy\n",
      "/home/cts/venv/lib/python3.6/site-packages/ipykernel_launcher.py:22: SettingWithCopyWarning: \n",
      "A value is trying to be set on a copy of a slice from a DataFrame.\n",
      "Try using .loc[row_indexer,col_indexer] = value instead\n",
      "\n",
      "See the caveats in the documentation: http://pandas.pydata.org/pandas-docs/stable/indexing.html#indexing-view-versus-copy\n"
     ]
    },
    {
     "data": {
      "text/plain": [
       "'DONE'"
      ]
     },
     "execution_count": 2,
     "metadata": {},
     "output_type": "execute_result"
    }
   ],
   "source": [
    "directionA = vehicle_positions[vehicle_positions['direction'] == 0]\n",
    "trips = directionA[['datetime', 'trip_id', 'relative_position']].groupby(['trip_id'])\n",
    "estimates = stations[['stop_id', 'relative_position']]\n",
    "estimates['estimate'] = True\n",
    "\n",
    "def create_estimated_arrival_times(trip_id, trip):\n",
    "    trip['estimate'] = False # add field to indicate these are actual observations not estimates\n",
    "    trip_est = estimates # copy values into loop variable\n",
    "    trip_est['trip_id'] = trip_id\n",
    "    combined = trip.append(trip_est)\n",
    "    combined = combined.sort_values('relative_position')\n",
    "    combined = combined.reset_index(drop=True)\n",
    "    combined['previous_pos'] = combined.relative_position.shift() # shift vals to move adjacent position and date data into each row\n",
    "    combined['next_pos'] = combined.relative_position.shift(-1)\n",
    "    combined['previous_dt'] = combined.datetime.shift()\n",
    "    combined['next_dt'] = combined.datetime.shift(-1)\n",
    "    select = combined[combined['estimate']==True]\n",
    "    select['weight'] = (select.relative_position - select.previous_pos) / (select.next_pos - select.previous_pos)\n",
    "    select['time_interpolation'] = (select.next_dt - select.previous_dt) * select.weight\n",
    "    select['datetime'] = select.previous_dt + select.time_interpolation\n",
    "    select['datetime_round'] = pd.DatetimeIndex(select.datetime).round('S')\n",
    "    select['stop_id'] = pd.to_numeric(select.stop_id, downcast='integer')\n",
    "    return select\n",
    "\n",
    "groups = [create_estimated_arrival_times(trip_id, trip) for trip_id, trip in trips]\n",
    "\"DONE\""
   ]
  },
  {
   "cell_type": "code",
   "execution_count": 3,
   "metadata": {},
   "outputs": [],
   "source": [
    "all_estimates = pd.concat(groups)\n",
    "stop_estimates = all_estimates.groupby(['stop_id'])"
   ]
  },
  {
   "cell_type": "markdown",
   "metadata": {},
   "source": [
    "## Assemble/parse raw predictions data"
   ]
  },
  {
   "cell_type": "code",
   "execution_count": 4,
   "metadata": {},
   "outputs": [
    {
     "name": "stderr",
     "output_type": "stream",
     "text": [
      "/home/cts/venv/lib/python3.6/site-packages/ipykernel_launcher.py:43: FutureWarning: Sorting because non-concatenation axis is not aligned. A future version\n",
      "of pandas will change to not sort by default.\n",
      "\n",
      "To accept the future behavior, pass 'sort=False'.\n",
      "\n",
      "To retain the current behavior and silence the warning, pass 'sort=True'.\n",
      "\n"
     ]
    },
    {
     "data": {
      "text/plain": [
       "'DONE'"
      ]
     },
     "execution_count": 4,
     "metadata": {},
     "output_type": "execute_result"
    }
   ],
   "source": [
    "import json\n",
    "import os\n",
    "import pendulum\n",
    "from helpers.datetimefs import DateTimeFS, construct_filename\n",
    "\n",
    "agency = \"lametro-rail\"\n",
    "now = pendulum.now(\"America/Los_Angeles\")\n",
    "today = \"2019-01-16\"\n",
    "end_datetime = now\n",
    "\n",
    "def process_frame(datetime, path_base):\n",
    "    source_path = construct_filename(path_base, datetime, \".json\")\n",
    "    with open(source_path, \"r\") as infile:\n",
    "        raw = json.load(infile)[\"predictions\"]\n",
    "    try:\n",
    "        directionB = raw[0][\"direction\"][\"prediction\"]\n",
    "    except:\n",
    "        return None\n",
    "    if type(directionB) is dict:\n",
    "        df = pd.DataFrame(directionB, index=[0])\n",
    "    elif type(directionB) is list:\n",
    "        df = pd.DataFrame(directionB[0], index=[0]) # get first prediction only\n",
    "    df[\"datetime_prediction_made\"] = pd.to_datetime(datetime.to_iso8601_string())\n",
    "    df[\"datetime_predicted\"] = pd.DatetimeIndex(pd.to_datetime(pd.to_datetime(df[\"epochTime\"], unit='ms')))\n",
    "    return df\n",
    "\n",
    "line_predictions = {}\n",
    "for line in range(804, 805):\n",
    "    schedule_path = f\"data/schedule/{line}_{agency}/{today}.csv\"\n",
    "    schedule = pd.read_csv(schedule_path, index_col=0)\n",
    "    start_datetime = pendulum.parse(\n",
    "        schedule.datetime.min(), tz=\"America/Los_Angeles\"\n",
    "    )  \n",
    "    stops = stations.stop_id\n",
    "    stop_predictions = {}\n",
    "    for stop_id in stops:\n",
    "        path_base = f\"data/predictions/raw/{line}_{agency}/{stop_id}\"\n",
    "        dtfs = DateTimeFS(path_base)\n",
    "        datetimes = dtfs.get_datetimes_in_range(\n",
    "            start_datetime.in_tz(\"UTC\"), end_datetime.in_tz(\"UTC\")\n",
    "        )\n",
    "        predictions = [process_frame(datetime, path_base) for datetime in datetimes]\n",
    "        predictions = pd.concat(predictions).drop_duplicates([\"dirTag\", \"datetime_predicted\", \"vehicle\"])[[\"datetime_prediction_made\", \"datetime_predicted\", \"vehicle\", \"tripTag\"]]\n",
    "        stop_predictions[stop_id] = predictions\n",
    "    line_predictions[line] = pd.concat(stop_predictions)\n",
    "all_predictions = pd.concat(line_predictions)\n",
    "\"DONE\""
   ]
  },
  {
   "cell_type": "code",
   "execution_count": 6,
   "metadata": {},
   "outputs": [],
   "source": [
    "os.makedirs(\"data/predictions/processed/804_lametro-rail\", exist_ok=True)\n",
    "all_predictions.to_csv(\"data/predictions/processed/804_lametro-rail/2019-01-16.csv\")"
   ]
  },
  {
   "cell_type": "code",
   "execution_count": 7,
   "metadata": {},
   "outputs": [
    {
     "name": "stderr",
     "output_type": "stream",
     "text": [
      "/home/cts/venv/lib/python3.6/site-packages/pandas/core/indexing.py:362: SettingWithCopyWarning: \n",
      "A value is trying to be set on a copy of a slice from a DataFrame.\n",
      "Try using .loc[row_indexer,col_indexer] = value instead\n",
      "\n",
      "See the caveats in the documentation: http://pandas.pydata.org/pandas-docs/stable/indexing.html#indexing-view-versus-copy\n",
      "  self.obj[key] = _infer_fill_value(value)\n",
      "/home/cts/venv/lib/python3.6/site-packages/pandas/core/indexing.py:543: SettingWithCopyWarning: \n",
      "A value is trying to be set on a copy of a slice from a DataFrame.\n",
      "Try using .loc[row_indexer,col_indexer] = value instead\n",
      "\n",
      "See the caveats in the documentation: http://pandas.pydata.org/pandas-docs/stable/indexing.html#indexing-view-versus-copy\n",
      "  self.obj[item] = s\n"
     ]
    },
    {
     "data": {
      "text/plain": [
       "'DONE'"
      ]
     },
     "execution_count": 7,
     "metadata": {},
     "output_type": "execute_result"
    }
   ],
   "source": [
    "def match_predictions_and_schedule(key, group):\n",
    "    stop_id = key[1]\n",
    "    est = stop_estimates.get_group(stop_id).dropna(subset=['datetime'])\n",
    "    est = est.set_index(pd.DatetimeIndex(est['datetime'])).sort_index()\n",
    "    if len(est):\n",
    "        group.loc[:,\"closest_actual\"] = group.datetime_predicted.apply(lambda x: est.index[est.index.get_loc(x, method='nearest')])\n",
    "        group.loc[:,\"scheduled\"] = group.tripTag.apply(lambda x: schedule[(schedule[\"trip_id\"] == int(x)) & (schedule[\"stop_id\"] == int(stop_id))].datetime.values[0])\n",
    "        return group\n",
    "    return None\n",
    "\n",
    "comparable = pd.concat([match_predictions_and_schedule(key, group) for key, group in all_predictions.groupby(level=[0, 1])])\n",
    "comparable[\"difference\"] = comparable[\"datetime_predicted\"] - pd.DatetimeIndex(comparable[\"closest_actual\"])\n",
    "\"DONE\""
   ]
  },
  {
   "cell_type": "code",
   "execution_count": 10,
   "metadata": {},
   "outputs": [],
   "source": [
    "os.makedirs(\"data/predictions/comparison/804_lametro-rail\", exist_ok=True)\n",
    "comparable.to_csv(\"data/predictions/comparison/804_lametro-rail/2019-01-16.csv\")"
   ]
  },
  {
   "cell_type": "code",
   "execution_count": 4,
   "metadata": {},
   "outputs": [],
   "source": [
    "import pandas as pd\n",
    "\n",
    "comparable = pd.read_csv(\"data/predictions/comparison/804_lametro-rail/2019-01-16.csv\", index_col=(0, 1, 2))"
   ]
  },
  {
   "cell_type": "code",
   "execution_count": 19,
   "metadata": {},
   "outputs": [
    {
     "data": {
      "text/plain": [
       "'DONE'"
      ]
     },
     "execution_count": 19,
     "metadata": {},
     "output_type": "execute_result"
    }
   ],
   "source": [
    "comparable[\"datetime_predicted_round\"] = pd.DatetimeIndex(comparable.datetime_predicted).round('T')\n",
    "comparable[\"datetime_predicted\"] = pd.DatetimeIndex(comparable.datetime_predicted)\n",
    "comparable = comparable.drop_duplicates([\"vehicle\", \"tripTag\", \"datetime_predicted_round\"])\n",
    "\"DONE\""
   ]
  },
  {
   "cell_type": "code",
   "execution_count": 20,
   "metadata": {},
   "outputs": [
    {
     "data": {
      "text/html": [
       "<div>\n",
       "<style scoped>\n",
       "    .dataframe tbody tr th:only-of-type {\n",
       "        vertical-align: middle;\n",
       "    }\n",
       "\n",
       "    .dataframe tbody tr th {\n",
       "        vertical-align: top;\n",
       "    }\n",
       "\n",
       "    .dataframe thead th {\n",
       "        text-align: right;\n",
       "    }\n",
       "</style>\n",
       "<table border=\"1\" class=\"dataframe\">\n",
       "  <thead>\n",
       "    <tr style=\"text-align: right;\">\n",
       "      <th></th>\n",
       "      <th></th>\n",
       "      <th></th>\n",
       "      <th>datetime_prediction_made</th>\n",
       "      <th>datetime_predicted</th>\n",
       "      <th>vehicle</th>\n",
       "      <th>tripTag</th>\n",
       "      <th>closest_actual</th>\n",
       "      <th>scheduled</th>\n",
       "      <th>difference</th>\n",
       "      <th>datetime_predicted_round</th>\n",
       "    </tr>\n",
       "    <tr>\n",
       "      <th></th>\n",
       "      <th>Unnamed: 1</th>\n",
       "      <th>Unnamed: 2</th>\n",
       "      <th></th>\n",
       "      <th></th>\n",
       "      <th></th>\n",
       "      <th></th>\n",
       "      <th></th>\n",
       "      <th></th>\n",
       "      <th></th>\n",
       "      <th></th>\n",
       "    </tr>\n",
       "  </thead>\n",
       "  <tbody>\n",
       "    <tr>\n",
       "      <th rowspan=\"5\" valign=\"top\">804</th>\n",
       "      <th rowspan=\"5\" valign=\"top\">80402</th>\n",
       "      <th>0</th>\n",
       "      <td>2019-01-16 12:04:10.000</td>\n",
       "      <td>2019-01-16 12:34:00.000</td>\n",
       "      <td>451</td>\n",
       "      <td>47674328</td>\n",
       "      <td>2019-01-16 12:33:25.300400676</td>\n",
       "      <td>2019-01-16 04:34:00</td>\n",
       "      <td>00:00:34.699599</td>\n",
       "      <td>2019-01-16 12:34:00</td>\n",
       "    </tr>\n",
       "    <tr>\n",
       "      <th>0</th>\n",
       "      <td>2019-01-16 12:31:22.000</td>\n",
       "      <td>2019-01-16 12:35:19.696</td>\n",
       "      <td>451</td>\n",
       "      <td>47674328</td>\n",
       "      <td>2019-01-16 12:33:25.300400676</td>\n",
       "      <td>2019-01-16 04:34:00</td>\n",
       "      <td>00:01:34.699599</td>\n",
       "      <td>2019-01-16 12:35:00</td>\n",
       "    </tr>\n",
       "    <tr>\n",
       "      <th>0</th>\n",
       "      <td>2019-01-16 12:35:09.000</td>\n",
       "      <td>2019-01-16 12:49:00.000</td>\n",
       "      <td>452</td>\n",
       "      <td>47674344</td>\n",
       "      <td>2019-01-16 12:48:17.506436539</td>\n",
       "      <td>2019-01-16 04:49:00</td>\n",
       "      <td>00:00:42.493563</td>\n",
       "      <td>2019-01-16 12:49:00</td>\n",
       "    </tr>\n",
       "    <tr>\n",
       "      <th>0</th>\n",
       "      <td>2019-01-16 12:49:07.000</td>\n",
       "      <td>2019-01-16 12:54:00.000</td>\n",
       "      <td>402</td>\n",
       "      <td>47674229</td>\n",
       "      <td>2019-01-16 12:48:17.506436539</td>\n",
       "      <td>2019-01-16 04:54:00</td>\n",
       "      <td>00:05:42.493563</td>\n",
       "      <td>2019-01-16 12:54:00</td>\n",
       "    </tr>\n",
       "    <tr>\n",
       "      <th>0</th>\n",
       "      <td>2019-01-16 12:53:09.000</td>\n",
       "      <td>2019-01-16 13:02:00.000</td>\n",
       "      <td>412</td>\n",
       "      <td>47674361</td>\n",
       "      <td>2019-01-16 13:01:25.716524116</td>\n",
       "      <td>2019-01-16 05:02:00</td>\n",
       "      <td>00:00:34.283475</td>\n",
       "      <td>2019-01-16 13:02:00</td>\n",
       "    </tr>\n",
       "  </tbody>\n",
       "</table>\n",
       "</div>"
      ],
      "text/plain": [
       "                          datetime_prediction_made      datetime_predicted  \\\n",
       "    Unnamed: 1 Unnamed: 2                                                    \n",
       "804 80402      0           2019-01-16 12:04:10.000 2019-01-16 12:34:00.000   \n",
       "               0           2019-01-16 12:31:22.000 2019-01-16 12:35:19.696   \n",
       "               0           2019-01-16 12:35:09.000 2019-01-16 12:49:00.000   \n",
       "               0           2019-01-16 12:49:07.000 2019-01-16 12:54:00.000   \n",
       "               0           2019-01-16 12:53:09.000 2019-01-16 13:02:00.000   \n",
       "\n",
       "                          vehicle   tripTag                 closest_actual  \\\n",
       "    Unnamed: 1 Unnamed: 2                                                    \n",
       "804 80402      0              451  47674328  2019-01-16 12:33:25.300400676   \n",
       "               0              451  47674328  2019-01-16 12:33:25.300400676   \n",
       "               0              452  47674344  2019-01-16 12:48:17.506436539   \n",
       "               0              402  47674229  2019-01-16 12:48:17.506436539   \n",
       "               0              412  47674361  2019-01-16 13:01:25.716524116   \n",
       "\n",
       "                                     scheduled      difference  \\\n",
       "    Unnamed: 1 Unnamed: 2                                        \n",
       "804 80402      0           2019-01-16 04:34:00 00:00:34.699599   \n",
       "               0           2019-01-16 04:34:00 00:01:34.699599   \n",
       "               0           2019-01-16 04:49:00 00:00:42.493563   \n",
       "               0           2019-01-16 04:54:00 00:05:42.493563   \n",
       "               0           2019-01-16 05:02:00 00:00:34.283475   \n",
       "\n",
       "                          datetime_predicted_round  \n",
       "    Unnamed: 1 Unnamed: 2                           \n",
       "804 80402      0               2019-01-16 12:34:00  \n",
       "               0               2019-01-16 12:35:00  \n",
       "               0               2019-01-16 12:49:00  \n",
       "               0               2019-01-16 12:54:00  \n",
       "               0               2019-01-16 13:02:00  "
      ]
     },
     "execution_count": 20,
     "metadata": {},
     "output_type": "execute_result"
    }
   ],
   "source": [
    "comparable.head()"
   ]
  },
  {
   "cell_type": "code",
   "execution_count": 26,
   "metadata": {},
   "outputs": [
    {
     "data": {
      "text/plain": [
       "     Unnamed: 1  Unnamed: 2\n",
       "804  80402       0            00:00:34.699599\n",
       "                 0            00:01:54.395599\n",
       "                 0            00:00:42.493563\n",
       "                 0            00:05:42.493563\n",
       "                 0            00:00:34.283475\n",
       "Name: difference, dtype: timedelta64[ns]"
      ]
     },
     "execution_count": 26,
     "metadata": {},
     "output_type": "execute_result"
    }
   ],
   "source": [
    "comparable[\"difference\"] = comparable[\"datetime_predicted_round\"] - pd.DatetimeIndex(comparable[\"closest_actual\"])\n",
    "comparable.difference.head()"
   ]
  },
  {
   "cell_type": "markdown",
   "metadata": {},
   "source": [
    "## Results\n",
    "\n",
    "Mean difference between predicted time and arrival time:"
   ]
  },
  {
   "cell_type": "code",
   "execution_count": 27,
   "metadata": {},
   "outputs": [
    {
     "data": {
      "text/plain": [
       "Timedelta('-1 days +23:59:46.383734')"
      ]
     },
     "execution_count": 27,
     "metadata": {},
     "output_type": "execute_result"
    }
   ],
   "source": [
    "comparable.difference.mean()"
   ]
  },
  {
   "cell_type": "markdown",
   "metadata": {},
   "source": [
    "Standard deviation of predicted time and arrival time:"
   ]
  },
  {
   "cell_type": "code",
   "execution_count": 28,
   "metadata": {},
   "outputs": [
    {
     "data": {
      "text/plain": [
       "Timedelta('0 days 00:06:50.040637')"
      ]
     },
     "execution_count": 28,
     "metadata": {},
     "output_type": "execute_result"
    }
   ],
   "source": [
    "comparable.difference.std()"
   ]
  },
  {
   "cell_type": "code",
   "execution_count": 29,
   "metadata": {},
   "outputs": [
    {
     "data": {
      "text/plain": [
       "4388"
      ]
     },
     "execution_count": 29,
     "metadata": {},
     "output_type": "execute_result"
    }
   ],
   "source": [
    "len(comparable)"
   ]
  }
 ],
 "metadata": {
  "kernelspec": {
   "display_name": "Python 3",
   "language": "python",
   "name": "python3"
  },
  "language_info": {
   "codemirror_mode": {
    "name": "ipython",
    "version": 3
   },
   "file_extension": ".py",
   "mimetype": "text/x-python",
   "name": "python",
   "nbconvert_exporter": "python",
   "pygments_lexer": "ipython3",
   "version": "3.6.8"
  }
 },
 "nbformat": 4,
 "nbformat_minor": 2
}
